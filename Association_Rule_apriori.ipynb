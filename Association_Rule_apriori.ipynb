{
 "cells": [
  {
   "cell_type": "code",
   "execution_count": 2,
   "metadata": {},
   "outputs": [],
   "source": [
    "import numpy as np\n",
    "import pandas as pd\n",
    "from apyori import apriori"
   ]
  },
  {
   "cell_type": "code",
   "execution_count": 7,
   "metadata": {},
   "outputs": [],
   "source": [
    "data = pd.read_csv(r'C:\\Users\\shraddhas\\Downloads\\ipynb folder\\Apriori\\store_data.csv', header=None)"
   ]
  },
  {
   "cell_type": "code",
   "execution_count": 8,
   "metadata": {},
   "outputs": [
    {
     "data": {
      "text/html": [
       "<div>\n",
       "<style scoped>\n",
       "    .dataframe tbody tr th:only-of-type {\n",
       "        vertical-align: middle;\n",
       "    }\n",
       "\n",
       "    .dataframe tbody tr th {\n",
       "        vertical-align: top;\n",
       "    }\n",
       "\n",
       "    .dataframe thead th {\n",
       "        text-align: right;\n",
       "    }\n",
       "</style>\n",
       "<table border=\"1\" class=\"dataframe\">\n",
       "  <thead>\n",
       "    <tr style=\"text-align: right;\">\n",
       "      <th></th>\n",
       "      <th>0</th>\n",
       "      <th>1</th>\n",
       "      <th>2</th>\n",
       "      <th>3</th>\n",
       "      <th>4</th>\n",
       "      <th>5</th>\n",
       "      <th>6</th>\n",
       "      <th>7</th>\n",
       "      <th>8</th>\n",
       "      <th>9</th>\n",
       "      <th>10</th>\n",
       "      <th>11</th>\n",
       "      <th>12</th>\n",
       "      <th>13</th>\n",
       "      <th>14</th>\n",
       "      <th>15</th>\n",
       "      <th>16</th>\n",
       "      <th>17</th>\n",
       "      <th>18</th>\n",
       "      <th>19</th>\n",
       "    </tr>\n",
       "  </thead>\n",
       "  <tbody>\n",
       "    <tr>\n",
       "      <th>0</th>\n",
       "      <td>shrimp</td>\n",
       "      <td>almonds</td>\n",
       "      <td>avocado</td>\n",
       "      <td>vegetables mix</td>\n",
       "      <td>green grapes</td>\n",
       "      <td>whole weat flour</td>\n",
       "      <td>yams</td>\n",
       "      <td>cottage cheese</td>\n",
       "      <td>energy drink</td>\n",
       "      <td>tomato juice</td>\n",
       "      <td>low fat yogurt</td>\n",
       "      <td>green tea</td>\n",
       "      <td>honey</td>\n",
       "      <td>salad</td>\n",
       "      <td>mineral water</td>\n",
       "      <td>salmon</td>\n",
       "      <td>antioxydant juice</td>\n",
       "      <td>frozen smoothie</td>\n",
       "      <td>spinach</td>\n",
       "      <td>olive oil</td>\n",
       "    </tr>\n",
       "    <tr>\n",
       "      <th>1</th>\n",
       "      <td>burgers</td>\n",
       "      <td>meatballs</td>\n",
       "      <td>eggs</td>\n",
       "      <td>NaN</td>\n",
       "      <td>NaN</td>\n",
       "      <td>NaN</td>\n",
       "      <td>NaN</td>\n",
       "      <td>NaN</td>\n",
       "      <td>NaN</td>\n",
       "      <td>NaN</td>\n",
       "      <td>NaN</td>\n",
       "      <td>NaN</td>\n",
       "      <td>NaN</td>\n",
       "      <td>NaN</td>\n",
       "      <td>NaN</td>\n",
       "      <td>NaN</td>\n",
       "      <td>NaN</td>\n",
       "      <td>NaN</td>\n",
       "      <td>NaN</td>\n",
       "      <td>NaN</td>\n",
       "    </tr>\n",
       "    <tr>\n",
       "      <th>2</th>\n",
       "      <td>chutney</td>\n",
       "      <td>NaN</td>\n",
       "      <td>NaN</td>\n",
       "      <td>NaN</td>\n",
       "      <td>NaN</td>\n",
       "      <td>NaN</td>\n",
       "      <td>NaN</td>\n",
       "      <td>NaN</td>\n",
       "      <td>NaN</td>\n",
       "      <td>NaN</td>\n",
       "      <td>NaN</td>\n",
       "      <td>NaN</td>\n",
       "      <td>NaN</td>\n",
       "      <td>NaN</td>\n",
       "      <td>NaN</td>\n",
       "      <td>NaN</td>\n",
       "      <td>NaN</td>\n",
       "      <td>NaN</td>\n",
       "      <td>NaN</td>\n",
       "      <td>NaN</td>\n",
       "    </tr>\n",
       "    <tr>\n",
       "      <th>3</th>\n",
       "      <td>turkey</td>\n",
       "      <td>avocado</td>\n",
       "      <td>NaN</td>\n",
       "      <td>NaN</td>\n",
       "      <td>NaN</td>\n",
       "      <td>NaN</td>\n",
       "      <td>NaN</td>\n",
       "      <td>NaN</td>\n",
       "      <td>NaN</td>\n",
       "      <td>NaN</td>\n",
       "      <td>NaN</td>\n",
       "      <td>NaN</td>\n",
       "      <td>NaN</td>\n",
       "      <td>NaN</td>\n",
       "      <td>NaN</td>\n",
       "      <td>NaN</td>\n",
       "      <td>NaN</td>\n",
       "      <td>NaN</td>\n",
       "      <td>NaN</td>\n",
       "      <td>NaN</td>\n",
       "    </tr>\n",
       "    <tr>\n",
       "      <th>4</th>\n",
       "      <td>mineral water</td>\n",
       "      <td>milk</td>\n",
       "      <td>energy bar</td>\n",
       "      <td>whole wheat rice</td>\n",
       "      <td>green tea</td>\n",
       "      <td>NaN</td>\n",
       "      <td>NaN</td>\n",
       "      <td>NaN</td>\n",
       "      <td>NaN</td>\n",
       "      <td>NaN</td>\n",
       "      <td>NaN</td>\n",
       "      <td>NaN</td>\n",
       "      <td>NaN</td>\n",
       "      <td>NaN</td>\n",
       "      <td>NaN</td>\n",
       "      <td>NaN</td>\n",
       "      <td>NaN</td>\n",
       "      <td>NaN</td>\n",
       "      <td>NaN</td>\n",
       "      <td>NaN</td>\n",
       "    </tr>\n",
       "  </tbody>\n",
       "</table>\n",
       "</div>"
      ],
      "text/plain": [
       "              0          1           2                 3             4   \\\n",
       "0         shrimp    almonds     avocado    vegetables mix  green grapes   \n",
       "1        burgers  meatballs        eggs               NaN           NaN   \n",
       "2        chutney        NaN         NaN               NaN           NaN   \n",
       "3         turkey    avocado         NaN               NaN           NaN   \n",
       "4  mineral water       milk  energy bar  whole wheat rice     green tea   \n",
       "\n",
       "                 5     6               7             8             9   \\\n",
       "0  whole weat flour  yams  cottage cheese  energy drink  tomato juice   \n",
       "1               NaN   NaN             NaN           NaN           NaN   \n",
       "2               NaN   NaN             NaN           NaN           NaN   \n",
       "3               NaN   NaN             NaN           NaN           NaN   \n",
       "4               NaN   NaN             NaN           NaN           NaN   \n",
       "\n",
       "               10         11     12     13             14      15  \\\n",
       "0  low fat yogurt  green tea  honey  salad  mineral water  salmon   \n",
       "1             NaN        NaN    NaN    NaN            NaN     NaN   \n",
       "2             NaN        NaN    NaN    NaN            NaN     NaN   \n",
       "3             NaN        NaN    NaN    NaN            NaN     NaN   \n",
       "4             NaN        NaN    NaN    NaN            NaN     NaN   \n",
       "\n",
       "                  16               17       18         19  \n",
       "0  antioxydant juice  frozen smoothie  spinach  olive oil  \n",
       "1                NaN              NaN      NaN        NaN  \n",
       "2                NaN              NaN      NaN        NaN  \n",
       "3                NaN              NaN      NaN        NaN  \n",
       "4                NaN              NaN      NaN        NaN  "
      ]
     },
     "execution_count": 8,
     "metadata": {},
     "output_type": "execute_result"
    }
   ],
   "source": [
    "data.head()"
   ]
  },
  {
   "cell_type": "code",
   "execution_count": 9,
   "metadata": {},
   "outputs": [
    {
     "data": {
      "text/plain": [
       "(7501, 20)"
      ]
     },
     "execution_count": 9,
     "metadata": {},
     "output_type": "execute_result"
    }
   ],
   "source": [
    "data.shape"
   ]
  },
  {
   "cell_type": "code",
   "execution_count": 10,
   "metadata": {},
   "outputs": [],
   "source": [
    "records = []\n",
    "for i in range(0, data.shape[0]):\n",
    "    records.append([str(store_data.values[i,j]) for j in range(0, data.shape[1])])"
   ]
  },
  {
   "cell_type": "code",
   "execution_count": 11,
   "metadata": {},
   "outputs": [],
   "source": [
    "association_rules = apriori(records, min_support=0.005, min_confidence=0.15, min_lift=3, min_length=2)\n",
    "association_results = list(association_rules)"
   ]
  },
  {
   "cell_type": "code",
   "execution_count": 16,
   "metadata": {},
   "outputs": [
    {
     "data": {
      "text/plain": [
       "40"
      ]
     },
     "execution_count": 16,
     "metadata": {},
     "output_type": "execute_result"
    }
   ],
   "source": [
    "len(association_results)"
   ]
  },
  {
   "cell_type": "code",
   "execution_count": 19,
   "metadata": {},
   "outputs": [
    {
     "data": {
      "text/plain": [
       "[RelationRecord(items=frozenset({'escalope', 'mushroom cream sauce'}), support=0.005732568990801226, ordered_statistics=[OrderedStatistic(items_base=frozenset({'mushroom cream sauce'}), items_add=frozenset({'escalope'}), confidence=0.3006993006993007, lift=3.790832696715049)]),\n",
       " RelationRecord(items=frozenset({'escalope', 'pasta'}), support=0.005865884548726837, ordered_statistics=[OrderedStatistic(items_base=frozenset({'pasta'}), items_add=frozenset({'escalope'}), confidence=0.3728813559322034, lift=4.700811850163794)]),\n",
       " RelationRecord(items=frozenset({'herb & pepper', 'ground beef'}), support=0.015997866951073192, ordered_statistics=[OrderedStatistic(items_base=frozenset({'ground beef'}), items_add=frozenset({'herb & pepper'}), confidence=0.1628222523744912, lift=3.291993841134928), OrderedStatistic(items_base=frozenset({'herb & pepper'}), items_add=frozenset({'ground beef'}), confidence=0.3234501347708895, lift=3.2919938411349285)]),\n",
       " RelationRecord(items=frozenset({'ground beef', 'tomato sauce'}), support=0.005332622317024397, ordered_statistics=[OrderedStatistic(items_base=frozenset({'tomato sauce'}), items_add=frozenset({'ground beef'}), confidence=0.3773584905660377, lift=3.840659481324083)]),\n",
       " RelationRecord(items=frozenset({'olive oil', 'whole wheat pasta'}), support=0.007998933475536596, ordered_statistics=[OrderedStatistic(items_base=frozenset({'whole wheat pasta'}), items_add=frozenset({'olive oil'}), confidence=0.2714932126696833, lift=4.122410097642296)]),\n",
       " RelationRecord(items=frozenset({'shrimp', 'pasta'}), support=0.005065991201173177, ordered_statistics=[OrderedStatistic(items_base=frozenset({'pasta'}), items_add=frozenset({'shrimp'}), confidence=0.3220338983050847, lift=4.506672147735896)]),\n",
       " RelationRecord(items=frozenset({'shrimp', 'chocolate', 'frozen vegetables'}), support=0.005332622317024397, ordered_statistics=[OrderedStatistic(items_base=frozenset({'chocolate', 'frozen vegetables'}), items_add=frozenset({'shrimp'}), confidence=0.23255813953488375, lift=3.2545123221103784), OrderedStatistic(items_base=frozenset({'shrimp', 'chocolate'}), items_add=frozenset({'frozen vegetables'}), confidence=0.29629629629629634, lift=3.1084175084175087)]),\n",
       " RelationRecord(items=frozenset({'escalope', 'nan', 'mushroom cream sauce'}), support=0.005732568990801226, ordered_statistics=[OrderedStatistic(items_base=frozenset({'mushroom cream sauce'}), items_add=frozenset({'escalope', 'nan'}), confidence=0.3006993006993007, lift=3.790832696715049), OrderedStatistic(items_base=frozenset({'nan', 'mushroom cream sauce'}), items_add=frozenset({'escalope'}), confidence=0.3006993006993007, lift=3.790832696715049)]),\n",
       " RelationRecord(items=frozenset({'escalope', 'pasta', 'nan'}), support=0.005865884548726837, ordered_statistics=[OrderedStatistic(items_base=frozenset({'pasta'}), items_add=frozenset({'escalope', 'nan'}), confidence=0.3728813559322034, lift=4.700811850163794), OrderedStatistic(items_base=frozenset({'pasta', 'nan'}), items_add=frozenset({'escalope'}), confidence=0.3728813559322034, lift=4.700811850163794)]),\n",
       " RelationRecord(items=frozenset({'spaghetti', 'frozen vegetables', 'ground beef'}), support=0.008665511265164644, ordered_statistics=[OrderedStatistic(items_base=frozenset({'spaghetti', 'frozen vegetables'}), items_add=frozenset({'ground beef'}), confidence=0.31100478468899523, lift=3.165328208890303)]),\n",
       " RelationRecord(items=frozenset({'shrimp', 'frozen vegetables', 'mineral water'}), support=0.007199040127982935, ordered_statistics=[OrderedStatistic(items_base=frozenset({'shrimp', 'mineral water'}), items_add=frozenset({'frozen vegetables'}), confidence=0.30508474576271183, lift=3.200616332819722)]),\n",
       " RelationRecord(items=frozenset({'olive oil', 'spaghetti', 'frozen vegetables'}), support=0.005732568990801226, ordered_statistics=[OrderedStatistic(items_base=frozenset({'spaghetti', 'frozen vegetables'}), items_add=frozenset({'olive oil'}), confidence=0.20574162679425836, lift=3.1240241752707125)]),\n",
       " RelationRecord(items=frozenset({'shrimp', 'spaghetti', 'frozen vegetables'}), support=0.005999200106652446, ordered_statistics=[OrderedStatistic(items_base=frozenset({'spaghetti', 'frozen vegetables'}), items_add=frozenset({'shrimp'}), confidence=0.21531100478468898, lift=3.0131489680782684)]),\n",
       " RelationRecord(items=frozenset({'spaghetti', 'tomatoes', 'frozen vegetables'}), support=0.006665777896280496, ordered_statistics=[OrderedStatistic(items_base=frozenset({'spaghetti', 'frozen vegetables'}), items_add=frozenset({'tomatoes'}), confidence=0.23923444976076558, lift=3.4980460188216425), OrderedStatistic(items_base=frozenset({'spaghetti', 'tomatoes'}), items_add=frozenset({'frozen vegetables'}), confidence=0.3184713375796179, lift=3.341053850607991)]),\n",
       " RelationRecord(items=frozenset({'spaghetti', 'grated cheese', 'ground beef'}), support=0.005332622317024397, ordered_statistics=[OrderedStatistic(items_base=frozenset({'spaghetti', 'grated cheese'}), items_add=frozenset({'ground beef'}), confidence=0.3225806451612903, lift=3.283144395325426)]),\n",
       " RelationRecord(items=frozenset({'herb & pepper', 'ground beef', 'mineral water'}), support=0.006665777896280496, ordered_statistics=[OrderedStatistic(items_base=frozenset({'ground beef', 'mineral water'}), items_add=frozenset({'herb & pepper'}), confidence=0.16286644951140067, lift=3.2928874333827935), OrderedStatistic(items_base=frozenset({'herb & pepper', 'mineral water'}), items_add=frozenset({'ground beef'}), confidence=0.39062500000000006, lift=3.975682666214383)]),\n",
       " RelationRecord(items=frozenset({'herb & pepper', 'nan', 'ground beef'}), support=0.015997866951073192, ordered_statistics=[OrderedStatistic(items_base=frozenset({'ground beef'}), items_add=frozenset({'herb & pepper', 'nan'}), confidence=0.1628222523744912, lift=3.291993841134928), OrderedStatistic(items_base=frozenset({'herb & pepper'}), items_add=frozenset({'nan', 'ground beef'}), confidence=0.3234501347708895, lift=3.2919938411349285), OrderedStatistic(items_base=frozenset({'nan', 'ground beef'}), items_add=frozenset({'herb & pepper'}), confidence=0.1628222523744912, lift=3.291993841134928), OrderedStatistic(items_base=frozenset({'herb & pepper', 'nan'}), items_add=frozenset({'ground beef'}), confidence=0.3234501347708895, lift=3.2919938411349285)]),\n",
       " RelationRecord(items=frozenset({'spaghetti', 'herb & pepper', 'ground beef'}), support=0.006399146780429276, ordered_statistics=[OrderedStatistic(items_base=frozenset({'spaghetti', 'ground beef'}), items_add=frozenset({'herb & pepper'}), confidence=0.163265306122449, lift=3.3009516475053635), OrderedStatistic(items_base=frozenset({'spaghetti', 'herb & pepper'}), items_add=frozenset({'ground beef'}), confidence=0.3934426229508197, lift=4.004359721511667)]),\n",
       " RelationRecord(items=frozenset({'nan', 'ground beef', 'tomato sauce'}), support=0.005332622317024397, ordered_statistics=[OrderedStatistic(items_base=frozenset({'tomato sauce'}), items_add=frozenset({'nan', 'ground beef'}), confidence=0.3773584905660377, lift=3.840659481324083), OrderedStatistic(items_base=frozenset({'nan', 'tomato sauce'}), items_add=frozenset({'ground beef'}), confidence=0.3773584905660377, lift=3.840659481324083)]),\n",
       " RelationRecord(items=frozenset({'shrimp', 'spaghetti', 'ground beef'}), support=0.005999200106652446, ordered_statistics=[OrderedStatistic(items_base=frozenset({'shrimp', 'ground beef'}), items_add=frozenset({'spaghetti'}), confidence=0.5232558139534884, lift=3.005315360233627)]),\n",
       " RelationRecord(items=frozenset({'soup', 'milk', 'mineral water'}), support=0.008532195707239034, ordered_statistics=[OrderedStatistic(items_base=frozenset({'soup'}), items_add=frozenset({'milk', 'mineral water'}), confidence=0.16886543535620052, lift=3.518498973907945), OrderedStatistic(items_base=frozenset({'milk', 'mineral water'}), items_add=frozenset({'soup'}), confidence=0.17777777777777776, lift=3.5184989739079446)]),\n",
       " RelationRecord(items=frozenset({'olive oil', 'spaghetti', 'milk'}), support=0.007199040127982935, ordered_statistics=[OrderedStatistic(items_base=frozenset({'spaghetti', 'milk'}), items_add=frozenset({'olive oil'}), confidence=0.20300751879699247, lift=3.0825089038385434)]),\n",
       " RelationRecord(items=frozenset({'olive oil', 'soup', 'mineral water'}), support=0.005199306759098787, ordered_statistics=[OrderedStatistic(items_base=frozenset({'olive oil', 'mineral water'}), items_add=frozenset({'soup'}), confidence=0.18840579710144928, lift=3.7288440212611373), OrderedStatistic(items_base=frozenset({'soup', 'mineral water'}), items_add=frozenset({'olive oil'}), confidence=0.22543352601156072, lift=3.4230301186492245)]),\n",
       " RelationRecord(items=frozenset({'olive oil', 'whole wheat pasta', 'nan'}), support=0.007998933475536596, ordered_statistics=[OrderedStatistic(items_base=frozenset({'whole wheat pasta'}), items_add=frozenset({'olive oil', 'nan'}), confidence=0.2714932126696833, lift=4.13077198425009), OrderedStatistic(items_base=frozenset({'whole wheat pasta', 'nan'}), items_add=frozenset({'olive oil'}), confidence=0.2714932126696833, lift=4.122410097642296)]),\n",
       " RelationRecord(items=frozenset({'shrimp', 'pasta', 'nan'}), support=0.005065991201173177, ordered_statistics=[OrderedStatistic(items_base=frozenset({'pasta'}), items_add=frozenset({'shrimp', 'nan'}), confidence=0.3220338983050847, lift=4.515095833993347), OrderedStatistic(items_base=frozenset({'pasta', 'nan'}), items_add=frozenset({'shrimp'}), confidence=0.3220338983050847, lift=4.506672147735896)]),\n",
       " RelationRecord(items=frozenset({'olive oil', 'pancakes', 'spaghetti'}), support=0.005065991201173177, ordered_statistics=[OrderedStatistic(items_base=frozenset({'spaghetti', 'pancakes'}), items_add=frozenset({'olive oil'}), confidence=0.20105820105820105, lift=3.0529100529100526)]),\n",
       " RelationRecord(items=frozenset({'shrimp', 'chocolate', 'nan', 'frozen vegetables'}), support=0.005332622317024397, ordered_statistics=[OrderedStatistic(items_base=frozenset({'chocolate', 'frozen vegetables'}), items_add=frozenset({'shrimp', 'nan'}), confidence=0.23255813953488375, lift=3.260595522712454), OrderedStatistic(items_base=frozenset({'shrimp', 'chocolate'}), items_add=frozenset({'nan', 'frozen vegetables'}), confidence=0.29629629629629634, lift=3.1084175084175087), OrderedStatistic(items_base=frozenset({'chocolate', 'nan', 'frozen vegetables'}), items_add=frozenset({'shrimp'}), confidence=0.23255813953488375, lift=3.2545123221103784), OrderedStatistic(items_base=frozenset({'shrimp', 'chocolate', 'nan'}), items_add=frozenset({'frozen vegetables'}), confidence=0.29629629629629634, lift=3.1084175084175087)]),\n",
       " RelationRecord(items=frozenset({'spaghetti', 'nan', 'frozen vegetables', 'ground beef'}), support=0.008665511265164644, ordered_statistics=[OrderedStatistic(items_base=frozenset({'spaghetti', 'frozen vegetables'}), items_add=frozenset({'nan', 'ground beef'}), confidence=0.31100478468899523, lift=3.165328208890303), OrderedStatistic(items_base=frozenset({'spaghetti', 'nan', 'frozen vegetables'}), items_add=frozenset({'ground beef'}), confidence=0.31100478468899523, lift=3.165328208890303)]),\n",
       " RelationRecord(items=frozenset({'shrimp', 'nan', 'frozen vegetables', 'mineral water'}), support=0.007199040127982935, ordered_statistics=[OrderedStatistic(items_base=frozenset({'shrimp', 'mineral water'}), items_add=frozenset({'nan', 'frozen vegetables'}), confidence=0.30508474576271183, lift=3.200616332819722), OrderedStatistic(items_base=frozenset({'shrimp', 'nan', 'mineral water'}), items_add=frozenset({'frozen vegetables'}), confidence=0.3068181818181818, lift=3.218801652892562)]),\n",
       " RelationRecord(items=frozenset({'olive oil', 'spaghetti', 'nan', 'frozen vegetables'}), support=0.005732568990801226, ordered_statistics=[OrderedStatistic(items_base=frozenset({'spaghetti', 'frozen vegetables'}), items_add=frozenset({'olive oil', 'nan'}), confidence=0.20574162679425836, lift=3.1303609383037156), OrderedStatistic(items_base=frozenset({'spaghetti', 'nan', 'frozen vegetables'}), items_add=frozenset({'olive oil'}), confidence=0.20574162679425836, lift=3.1240241752707125)]),\n",
       " RelationRecord(items=frozenset({'shrimp', 'spaghetti', 'nan', 'frozen vegetables'}), support=0.005999200106652446, ordered_statistics=[OrderedStatistic(items_base=frozenset({'spaghetti', 'frozen vegetables'}), items_add=frozenset({'shrimp', 'nan'}), confidence=0.21531100478468898, lift=3.0187810222242093), OrderedStatistic(items_base=frozenset({'spaghetti', 'nan', 'frozen vegetables'}), items_add=frozenset({'shrimp'}), confidence=0.21531100478468898, lift=3.0131489680782684)]),\n",
       " RelationRecord(items=frozenset({'spaghetti', 'tomatoes', 'nan', 'frozen vegetables'}), support=0.006665777896280496, ordered_statistics=[OrderedStatistic(items_base=frozenset({'spaghetti', 'frozen vegetables'}), items_add=frozenset({'tomatoes', 'nan'}), confidence=0.23923444976076558, lift=3.4980460188216425), OrderedStatistic(items_base=frozenset({'spaghetti', 'tomatoes'}), items_add=frozenset({'nan', 'frozen vegetables'}), confidence=0.3184713375796179, lift=3.341053850607991), OrderedStatistic(items_base=frozenset({'spaghetti', 'nan', 'frozen vegetables'}), items_add=frozenset({'tomatoes'}), confidence=0.23923444976076558, lift=3.4980460188216425), OrderedStatistic(items_base=frozenset({'spaghetti', 'tomatoes', 'nan'}), items_add=frozenset({'frozen vegetables'}), confidence=0.3184713375796179, lift=3.341053850607991)]),\n",
       " RelationRecord(items=frozenset({'spaghetti', 'nan', 'grated cheese', 'ground beef'}), support=0.005332622317024397, ordered_statistics=[OrderedStatistic(items_base=frozenset({'spaghetti', 'grated cheese'}), items_add=frozenset({'nan', 'ground beef'}), confidence=0.3225806451612903, lift=3.283144395325426), OrderedStatistic(items_base=frozenset({'spaghetti', 'nan', 'grated cheese'}), items_add=frozenset({'ground beef'}), confidence=0.3225806451612903, lift=3.283144395325426)]),\n",
       " RelationRecord(items=frozenset({'herb & pepper', 'nan', 'ground beef', 'mineral water'}), support=0.006665777896280496, ordered_statistics=[OrderedStatistic(items_base=frozenset({'ground beef', 'mineral water'}), items_add=frozenset({'herb & pepper', 'nan'}), confidence=0.16286644951140067, lift=3.2928874333827935), OrderedStatistic(items_base=frozenset({'herb & pepper', 'mineral water'}), items_add=frozenset({'nan', 'ground beef'}), confidence=0.39062500000000006, lift=3.975682666214383), OrderedStatistic(items_base=frozenset({'nan', 'ground beef', 'mineral water'}), items_add=frozenset({'herb & pepper'}), confidence=0.16286644951140067, lift=3.2928874333827935), OrderedStatistic(items_base=frozenset({'herb & pepper', 'nan', 'mineral water'}), items_add=frozenset({'ground beef'}), confidence=0.39062500000000006, lift=3.975682666214383)]),\n",
       " RelationRecord(items=frozenset({'spaghetti', 'herb & pepper', 'nan', 'ground beef'}), support=0.006399146780429276, ordered_statistics=[OrderedStatistic(items_base=frozenset({'spaghetti', 'ground beef'}), items_add=frozenset({'herb & pepper', 'nan'}), confidence=0.163265306122449, lift=3.3009516475053635), OrderedStatistic(items_base=frozenset({'spaghetti', 'herb & pepper'}), items_add=frozenset({'nan', 'ground beef'}), confidence=0.3934426229508197, lift=4.004359721511667), OrderedStatistic(items_base=frozenset({'spaghetti', 'nan', 'ground beef'}), items_add=frozenset({'herb & pepper'}), confidence=0.163265306122449, lift=3.3009516475053635), OrderedStatistic(items_base=frozenset({'spaghetti', 'herb & pepper', 'nan'}), items_add=frozenset({'ground beef'}), confidence=0.3934426229508197, lift=4.004359721511667)]),\n",
       " RelationRecord(items=frozenset({'shrimp', 'spaghetti', 'nan', 'ground beef'}), support=0.005999200106652446, ordered_statistics=[OrderedStatistic(items_base=frozenset({'shrimp', 'ground beef'}), items_add=frozenset({'spaghetti', 'nan'}), confidence=0.5232558139534884, lift=3.005315360233627), OrderedStatistic(items_base=frozenset({'shrimp', 'nan', 'ground beef'}), items_add=frozenset({'spaghetti'}), confidence=0.5232558139534884, lift=3.005315360233627)]),\n",
       " RelationRecord(items=frozenset({'soup', 'nan', 'milk', 'mineral water'}), support=0.008532195707239034, ordered_statistics=[OrderedStatistic(items_base=frozenset({'soup'}), items_add=frozenset({'milk', 'nan', 'mineral water'}), confidence=0.16886543535620052, lift=3.518498973907945), OrderedStatistic(items_base=frozenset({'milk', 'mineral water'}), items_add=frozenset({'soup', 'nan'}), confidence=0.17777777777777776, lift=3.5184989739079446), OrderedStatistic(items_base=frozenset({'soup', 'nan'}), items_add=frozenset({'milk', 'mineral water'}), confidence=0.16886543535620052, lift=3.518498973907945), OrderedStatistic(items_base=frozenset({'nan', 'milk', 'mineral water'}), items_add=frozenset({'soup'}), confidence=0.17777777777777776, lift=3.5184989739079446)]),\n",
       " RelationRecord(items=frozenset({'olive oil', 'spaghetti', 'nan', 'milk'}), support=0.007199040127982935, ordered_statistics=[OrderedStatistic(items_base=frozenset({'spaghetti', 'milk'}), items_add=frozenset({'olive oil', 'nan'}), confidence=0.20300751879699247, lift=3.088761457396025), OrderedStatistic(items_base=frozenset({'spaghetti', 'nan', 'milk'}), items_add=frozenset({'olive oil'}), confidence=0.20300751879699247, lift=3.0825089038385434)]),\n",
       " RelationRecord(items=frozenset({'olive oil', 'soup', 'nan', 'mineral water'}), support=0.005199306759098787, ordered_statistics=[OrderedStatistic(items_base=frozenset({'olive oil', 'mineral water'}), items_add=frozenset({'soup', 'nan'}), confidence=0.18840579710144928, lift=3.7288440212611373), OrderedStatistic(items_base=frozenset({'soup', 'mineral water'}), items_add=frozenset({'olive oil', 'nan'}), confidence=0.22543352601156072, lift=3.429973384609973), OrderedStatistic(items_base=frozenset({'olive oil', 'nan', 'mineral water'}), items_add=frozenset({'soup'}), confidence=0.18932038834951456, lift=3.746945205830366), OrderedStatistic(items_base=frozenset({'soup', 'nan', 'mineral water'}), items_add=frozenset({'olive oil'}), confidence=0.22543352601156072, lift=3.4230301186492245)]),\n",
       " RelationRecord(items=frozenset({'olive oil', 'spaghetti', 'pancakes', 'nan'}), support=0.005065991201173177, ordered_statistics=[OrderedStatistic(items_base=frozenset({'spaghetti', 'pancakes'}), items_add=frozenset({'olive oil', 'nan'}), confidence=0.20105820105820105, lift=3.0591025682303568), OrderedStatistic(items_base=frozenset({'spaghetti', 'pancakes', 'nan'}), items_add=frozenset({'olive oil'}), confidence=0.20105820105820105, lift=3.0529100529100526)])]"
      ]
     },
     "execution_count": 19,
     "metadata": {},
     "output_type": "execute_result"
    }
   ],
   "source": [
    "association_results"
   ]
  },
  {
   "cell_type": "code",
   "execution_count": 20,
   "metadata": {},
   "outputs": [
    {
     "data": {
      "text/plain": [
       "[RelationRecord(items=frozenset({'shrimp', 'spaghetti', 'nan', 'frozen vegetables'}), support=0.005999200106652446, ordered_statistics=[OrderedStatistic(items_base=frozenset({'spaghetti', 'frozen vegetables'}), items_add=frozenset({'shrimp', 'nan'}), confidence=0.21531100478468898, lift=3.0187810222242093), OrderedStatistic(items_base=frozenset({'spaghetti', 'nan', 'frozen vegetables'}), items_add=frozenset({'shrimp'}), confidence=0.21531100478468898, lift=3.0131489680782684)]),\n",
       " RelationRecord(items=frozenset({'spaghetti', 'tomatoes', 'nan', 'frozen vegetables'}), support=0.006665777896280496, ordered_statistics=[OrderedStatistic(items_base=frozenset({'spaghetti', 'frozen vegetables'}), items_add=frozenset({'tomatoes', 'nan'}), confidence=0.23923444976076558, lift=3.4980460188216425), OrderedStatistic(items_base=frozenset({'spaghetti', 'tomatoes'}), items_add=frozenset({'nan', 'frozen vegetables'}), confidence=0.3184713375796179, lift=3.341053850607991), OrderedStatistic(items_base=frozenset({'spaghetti', 'nan', 'frozen vegetables'}), items_add=frozenset({'tomatoes'}), confidence=0.23923444976076558, lift=3.4980460188216425), OrderedStatistic(items_base=frozenset({'spaghetti', 'tomatoes', 'nan'}), items_add=frozenset({'frozen vegetables'}), confidence=0.3184713375796179, lift=3.341053850607991)]),\n",
       " RelationRecord(items=frozenset({'spaghetti', 'nan', 'grated cheese', 'ground beef'}), support=0.005332622317024397, ordered_statistics=[OrderedStatistic(items_base=frozenset({'spaghetti', 'grated cheese'}), items_add=frozenset({'nan', 'ground beef'}), confidence=0.3225806451612903, lift=3.283144395325426), OrderedStatistic(items_base=frozenset({'spaghetti', 'nan', 'grated cheese'}), items_add=frozenset({'ground beef'}), confidence=0.3225806451612903, lift=3.283144395325426)]),\n",
       " RelationRecord(items=frozenset({'herb & pepper', 'nan', 'ground beef', 'mineral water'}), support=0.006665777896280496, ordered_statistics=[OrderedStatistic(items_base=frozenset({'ground beef', 'mineral water'}), items_add=frozenset({'herb & pepper', 'nan'}), confidence=0.16286644951140067, lift=3.2928874333827935), OrderedStatistic(items_base=frozenset({'herb & pepper', 'mineral water'}), items_add=frozenset({'nan', 'ground beef'}), confidence=0.39062500000000006, lift=3.975682666214383), OrderedStatistic(items_base=frozenset({'nan', 'ground beef', 'mineral water'}), items_add=frozenset({'herb & pepper'}), confidence=0.16286644951140067, lift=3.2928874333827935), OrderedStatistic(items_base=frozenset({'herb & pepper', 'nan', 'mineral water'}), items_add=frozenset({'ground beef'}), confidence=0.39062500000000006, lift=3.975682666214383)]),\n",
       " RelationRecord(items=frozenset({'spaghetti', 'herb & pepper', 'nan', 'ground beef'}), support=0.006399146780429276, ordered_statistics=[OrderedStatistic(items_base=frozenset({'spaghetti', 'ground beef'}), items_add=frozenset({'herb & pepper', 'nan'}), confidence=0.163265306122449, lift=3.3009516475053635), OrderedStatistic(items_base=frozenset({'spaghetti', 'herb & pepper'}), items_add=frozenset({'nan', 'ground beef'}), confidence=0.3934426229508197, lift=4.004359721511667), OrderedStatistic(items_base=frozenset({'spaghetti', 'nan', 'ground beef'}), items_add=frozenset({'herb & pepper'}), confidence=0.163265306122449, lift=3.3009516475053635), OrderedStatistic(items_base=frozenset({'spaghetti', 'herb & pepper', 'nan'}), items_add=frozenset({'ground beef'}), confidence=0.3934426229508197, lift=4.004359721511667)]),\n",
       " RelationRecord(items=frozenset({'shrimp', 'spaghetti', 'nan', 'ground beef'}), support=0.005999200106652446, ordered_statistics=[OrderedStatistic(items_base=frozenset({'shrimp', 'ground beef'}), items_add=frozenset({'spaghetti', 'nan'}), confidence=0.5232558139534884, lift=3.005315360233627), OrderedStatistic(items_base=frozenset({'shrimp', 'nan', 'ground beef'}), items_add=frozenset({'spaghetti'}), confidence=0.5232558139534884, lift=3.005315360233627)]),\n",
       " RelationRecord(items=frozenset({'soup', 'nan', 'milk', 'mineral water'}), support=0.008532195707239034, ordered_statistics=[OrderedStatistic(items_base=frozenset({'soup'}), items_add=frozenset({'milk', 'nan', 'mineral water'}), confidence=0.16886543535620052, lift=3.518498973907945), OrderedStatistic(items_base=frozenset({'milk', 'mineral water'}), items_add=frozenset({'soup', 'nan'}), confidence=0.17777777777777776, lift=3.5184989739079446), OrderedStatistic(items_base=frozenset({'soup', 'nan'}), items_add=frozenset({'milk', 'mineral water'}), confidence=0.16886543535620052, lift=3.518498973907945), OrderedStatistic(items_base=frozenset({'nan', 'milk', 'mineral water'}), items_add=frozenset({'soup'}), confidence=0.17777777777777776, lift=3.5184989739079446)]),\n",
       " RelationRecord(items=frozenset({'olive oil', 'spaghetti', 'nan', 'milk'}), support=0.007199040127982935, ordered_statistics=[OrderedStatistic(items_base=frozenset({'spaghetti', 'milk'}), items_add=frozenset({'olive oil', 'nan'}), confidence=0.20300751879699247, lift=3.088761457396025), OrderedStatistic(items_base=frozenset({'spaghetti', 'nan', 'milk'}), items_add=frozenset({'olive oil'}), confidence=0.20300751879699247, lift=3.0825089038385434)]),\n",
       " RelationRecord(items=frozenset({'olive oil', 'soup', 'nan', 'mineral water'}), support=0.005199306759098787, ordered_statistics=[OrderedStatistic(items_base=frozenset({'olive oil', 'mineral water'}), items_add=frozenset({'soup', 'nan'}), confidence=0.18840579710144928, lift=3.7288440212611373), OrderedStatistic(items_base=frozenset({'soup', 'mineral water'}), items_add=frozenset({'olive oil', 'nan'}), confidence=0.22543352601156072, lift=3.429973384609973), OrderedStatistic(items_base=frozenset({'olive oil', 'nan', 'mineral water'}), items_add=frozenset({'soup'}), confidence=0.18932038834951456, lift=3.746945205830366), OrderedStatistic(items_base=frozenset({'soup', 'nan', 'mineral water'}), items_add=frozenset({'olive oil'}), confidence=0.22543352601156072, lift=3.4230301186492245)]),\n",
       " RelationRecord(items=frozenset({'olive oil', 'spaghetti', 'pancakes', 'nan'}), support=0.005065991201173177, ordered_statistics=[OrderedStatistic(items_base=frozenset({'spaghetti', 'pancakes'}), items_add=frozenset({'olive oil', 'nan'}), confidence=0.20105820105820105, lift=3.0591025682303568), OrderedStatistic(items_base=frozenset({'spaghetti', 'pancakes', 'nan'}), items_add=frozenset({'olive oil'}), confidence=0.20105820105820105, lift=3.0529100529100526)])]"
      ]
     },
     "execution_count": 20,
     "metadata": {},
     "output_type": "execute_result"
    }
   ],
   "source": [
    "association_results[-10:]"
   ]
  },
  {
   "cell_type": "code",
   "execution_count": null,
   "metadata": {},
   "outputs": [],
   "source": []
  }
 ],
 "metadata": {
  "kernelspec": {
   "display_name": "Python 3",
   "language": "python",
   "name": "python3"
  },
  "language_info": {
   "codemirror_mode": {
    "name": "ipython",
    "version": 3
   },
   "file_extension": ".py",
   "mimetype": "text/x-python",
   "name": "python",
   "nbconvert_exporter": "python",
   "pygments_lexer": "ipython3",
   "version": "3.7.6"
  }
 },
 "nbformat": 4,
 "nbformat_minor": 4
}
